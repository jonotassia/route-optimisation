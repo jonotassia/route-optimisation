{
 "cells": [
  {
   "cell_type": "code",
   "execution_count": 16,
   "metadata": {},
   "outputs": [],
   "source": [
    "import pathlib\n",
    "from sqlalchemy.orm import declarative_base, sessionmaker, registry\n",
    "from sqlalchemy import Column, String, DateTime, Integer, PickleType, Table, ForeignKey, create_engine\n",
    "from sqlalchemy.ext.mutable import MutableList\n",
    "import datetime"
   ]
  },
  {
   "cell_type": "code",
   "execution_count": 17,
   "metadata": {},
   "outputs": [],
   "source": [
    "BASE_DIR = pathlib.Path().absolute()\n",
    "\n",
    "# Create a connection string to the database\n",
    "connection_string = \"sqlite:///\" + pathlib.Path.joinpath(BASE_DIR, \"routing.db\").as_posix()\n",
    "connection_string\n",
    "\n",
    "\n",
    "# Create engine that will be used to file to the SQLite database. Echo allows us to bypass comments produced by SQL\n",
    "engine = create_engine(connection_string, echo=True)\n",
    "\n",
    "# Create a sessionmaker class which we use to populate each individual table.\n",
    "session = sessionmaker()\n",
    "\n",
    "# Create mapper registry\n",
    "mapper_registry = registry()"
   ]
  },
  {
   "cell_type": "code",
   "execution_count": 18,
   "metadata": {},
   "outputs": [],
   "source": [
    "@mapper_registry.mapped\n",
    "class Visit:\n",
    "    __table__ = Table(\n",
    "        \"Visit\",\n",
    "        mapper_registry.metadata,\n",
    "        Column(\"id\", Integer, primary_key=True, unique=True),\n",
    "        Column(\"pat_id\", Integer),\n",
    "        Column(\"clin_id\", Integer, nullable=True),\n",
    "        Column(\"exp_date\", DateTime, nullable=True),\n",
    "        Column(\"status\", String, nullable=True),\n",
    "        Column(\"time_earliest\", DateTime, nullable=True),\n",
    "        Column(\"time_latest\", DateTime, nullable=True),\n",
    "        Column(\"visit_priority\", String, nullable=True),\n",
    "        Column(\"visit_complexity\", String, nullable=True),\n",
    "        Column(\"skill_list\", MutableList.as_mutable(PickleType), nullable=True),\n",
    "        Column(\"discipline\", String, nullable=True),\n",
    "        Column(\"cancel_reason\", String, nullable=True)       \n",
    "    )\n",
    "\n",
    "    _c_visit_complexity = (\"simple\", \"routine\", \"complex\")\n",
    "    _c_visit_priority = (\"green\", \"amber\", \"red\")\n",
    "    _c_sched_status = (\"unassigned\", \"assigned\", \"no show\", \"cancelled\")\n",
    "    _c_cancel_reason = (\"clinician unavailable\", \"patient unavailable\", \"no longer needed\", \"expired\", \"system action\")\n",
    "\n",
    "    def __init__(self, pat_id=10000, clin_id=None, status=1, sched_status=\"unscheduled\", time_earliest=\"2000\", time_latest=\"2200\",\n",
    "                 exp_date=\"22/12/2020\", visit_complexity=_c_visit_complexity[1], visit_priority=_c_visit_priority[0],\n",
    "                 skill_list=[1, 2, 3], discipline=\"\", **kwargs):\n",
    "        \"\"\"Initializes a new request and links with pat_id. It contains the following attributes:\n",
    "            req_id, pat_id, name, status, the earliest time, latest time, sched status, and cancel_reason\"\"\"\n",
    "        self._id = 10000\n",
    "        self.exp_date = datetime.datetime.strptime(exp_date, \"%d/%m/%Y\")\n",
    "        self.pat_id = pat_id\n",
    "        self.clin_id = clin_id\n",
    "        self._name = \"Visit\" + str(self._id)\n",
    "        self.status = status\n",
    "        self.time_earliest = datetime.datetime.strptime(time_earliest, \"%H%M\")\n",
    "        self.time_latest = datetime.datetime.strptime(time_latest, \"%H%M\")\n",
    "        self.visit_priority = visit_priority\n",
    "        self.visit_complexity = visit_complexity\n",
    "        self.skill_list = skill_list\n",
    "        self.discipline = discipline\n",
    "        self._cancel_reason = None\n",
    "        self._sched_status = sched_status"
   ]
  },
  {
   "cell_type": "code",
   "execution_count": 21,
   "metadata": {},
   "outputs": [],
   "source": [
    "def create_db(engine, base):\n",
    "    base.metadata.create_all(engine)"
   ]
  },
  {
   "cell_type": "code",
   "execution_count": 22,
   "metadata": {},
   "outputs": [
    {
     "name": "stdout",
     "output_type": "stream",
     "text": [
      "2022-12-20 10:42:18,548 INFO sqlalchemy.engine.Engine BEGIN (implicit)\n",
      "2022-12-20 10:42:18,549 INFO sqlalchemy.engine.Engine PRAGMA main.table_info(\"Visit\")\n",
      "2022-12-20 10:42:18,550 INFO sqlalchemy.engine.Engine [raw sql] ()\n",
      "2022-12-20 10:42:18,552 INFO sqlalchemy.engine.Engine PRAGMA temp.table_info(\"Visit\")\n",
      "2022-12-20 10:42:18,552 INFO sqlalchemy.engine.Engine [raw sql] ()\n",
      "2022-12-20 10:42:18,554 INFO sqlalchemy.engine.Engine \n",
      "CREATE TABLE \"Visit\" (\n",
      "\tid INTEGER NOT NULL, \n",
      "\tpat_id INTEGER, \n",
      "\tclin_id INTEGER, \n",
      "\texp_date DATETIME, \n",
      "\tstatus VARCHAR, \n",
      "\ttime_earliest DATETIME, \n",
      "\ttime_latest DATETIME, \n",
      "\tvisit_priority VARCHAR, \n",
      "\tvisit_complexity VARCHAR, \n",
      "\tskill_list BLOB, \n",
      "\tdiscipline VARCHAR, \n",
      "\tcancel_reason VARCHAR, \n",
      "\tPRIMARY KEY (id), \n",
      "\tUNIQUE (id)\n",
      ")\n",
      "\n",
      "\n",
      "2022-12-20 10:42:18,555 INFO sqlalchemy.engine.Engine [no key 0.00082s] ()\n",
      "2022-12-20 10:42:18,561 INFO sqlalchemy.engine.Engine COMMIT\n"
     ]
    }
   ],
   "source": [
    "create_db(engine, mapper_registry)"
   ]
  },
  {
   "cell_type": "code",
   "execution_count": 23,
   "metadata": {},
   "outputs": [],
   "source": [
    "def create_obj(table, engine, session):\n",
    "    # Initialize the session. We will bind it to our engine so it knows where to write to\n",
    "    local_session = session(bind=engine)\n",
    "\n",
    "    # Create a sample patient\n",
    "    new_obj = table()\n",
    "\n",
    "    # Add the row to the table\n",
    "    local_session.add(new_obj)\n",
    "\n",
    "    # Commit the row to the table\n",
    "    local_session.commit()\n"
   ]
  },
  {
   "cell_type": "code",
   "execution_count": 24,
   "metadata": {},
   "outputs": [
    {
     "name": "stdout",
     "output_type": "stream",
     "text": [
      "2022-12-20 10:42:22,711 INFO sqlalchemy.engine.Engine BEGIN (implicit)\n",
      "2022-12-20 10:42:22,714 INFO sqlalchemy.engine.Engine INSERT INTO \"Visit\" (pat_id, clin_id, exp_date, status, time_earliest, time_latest, visit_priority, visit_complexity, skill_list, discipline, cancel_reason) VALUES (?, ?, ?, ?, ?, ?, ?, ?, ?, ?, ?)\n",
      "2022-12-20 10:42:22,715 INFO sqlalchemy.engine.Engine [generated in 0.00152s] (10000, None, '2020-12-22 00:00:00.000000', 1, '1900-01-01 20:00:00.000000', '1900-01-01 22:00:00.000000', 'green', 'routine', <memory at 0x0000025518B3FE80>, '', None)\n",
      "2022-12-20 10:42:22,718 INFO sqlalchemy.engine.Engine COMMIT\n"
     ]
    }
   ],
   "source": [
    "create_obj(Visit, engine, session)"
   ]
  },
  {
   "cell_type": "code",
   "execution_count": null,
   "metadata": {},
   "outputs": [],
   "source": []
  }
 ],
 "metadata": {
  "kernelspec": {
   "display_name": "venv",
   "language": "python",
   "name": "python3"
  },
  "language_info": {
   "codemirror_mode": {
    "name": "ipython",
    "version": 3
   },
   "file_extension": ".py",
   "mimetype": "text/x-python",
   "name": "python",
   "nbconvert_exporter": "python",
   "pygments_lexer": "ipython3",
   "version": "3.10.9"
  },
  "orig_nbformat": 4,
  "vscode": {
   "interpreter": {
    "hash": "68c29b4e11cb6904d049e7b3036eeceec16bac211a7214239a282b29fb5a1493"
   }
  }
 },
 "nbformat": 4,
 "nbformat_minor": 2
}
