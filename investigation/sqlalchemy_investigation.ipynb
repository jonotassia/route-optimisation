{
 "cells": [
  {
   "cell_type": "code",
   "execution_count": null,
   "metadata": {},
   "outputs": [],
   "source": [
    "import pathlib\n",
    "from sqlalchemy.orm import declarative_base, sessionmaker, registry\n",
    "from sqlalchemy import Column, String, DateTime, Integer, PickleType, Table, ForeignKey, create_engine\n",
    "from sqlalchemy.ext.mutable import MutableList\n",
    "import datetime"
   ]
  },
  {
   "cell_type": "code",
   "execution_count": null,
   "metadata": {},
   "outputs": [],
   "source": [
    "import pathlib\n",
    "from sqlalchemy.orm import sessionmaker, registry\n",
    "from sqlalchemy import create_engine\n",
    "from contextlib import contextmanager\n",
    "\n",
    "\n",
    "def create_database():\n",
    "    \"\"\"\n",
    "    Creates databases for each class as a SQLite database using SQL Alchemy's ORM module.\n",
    "    :return: None\n",
    "    \"\"\"\n",
    "    BASE_DIR = pathlib.Path().absolute()\n",
    "\n",
    "    # Create a connection string to the database\n",
    "    connection_string = \"sqlite:///\" + pathlib.Path.joinpath(BASE_DIR, \"routing.db\").as_posix()\n",
    "\n",
    "    # Create engine that will be used to file to the SQLite database. Echo allows us to bypass comments produced by SQL\n",
    "    engine = create_engine(connection_string, echo=True)\n",
    "\n",
    "    # Create and configure a sessionmaker class which we use to populate each individual table.\n",
    "    Session = sessionmaker(bind=engine)\n",
    "\n",
    "    # Create mapper registry\n",
    "    mapper_registry = registry()\n",
    "\n",
    "    return engine, Session, mapper_registry\n",
    "\n",
    "\n",
    "def create_tables(engine, base):\n",
    "    \"\"\"\n",
    "    Creates tables based on metadata provided. This will convert the __table__ attribute\n",
    "    :param engine: Database engine for filing changes to DB\n",
    "    :param base: Base to collect table metadata from\n",
    "    :return: None\n",
    "    \"\"\"\n",
    "    base.metadata.create_all(engine)\n",
    "\n",
    "\n",
    "\n",
    "def write_obj(obj):\n",
    "    \"\"\"\n",
    "    Creates a new row in a table. Corresponding table is specified in the class of the object passed to this function.\n",
    "    :param obj: Object to write to table. The class of the object specifies the parameters of the table.\n",
    "    :return: None\n",
    "    \"\"\"\n",
    "    # Set context to use the session that is bound to our engine for this transaction\n",
    "    with session_scope() as local_session:\n",
    "        # Add the row to the table\n",
    "        local_session.merge(obj)\n",
    "\n",
    "\n",
    "def load_obj(cls, obj_id):\n",
    "    \"\"\"\n",
    "    loads a new row in a table. Corresponding table is specified in the class of the object passed to this function.\n",
    "    :param obj: Object to write to table. The class of the object specifies the parameters of the table.\n",
    "    :return: None\n",
    "    \"\"\"\n",
    "    # Set context to use the session that is bound to our engine for this transaction\n",
    "    with session_scope() as local_session:\n",
    "        # Add the row to the table\n",
    "        obj = local_session.query(cls).filter(cls._id == obj_id).first()\n",
    "\n",
    "    return obj\n",
    "\n",
    "\n",
    "@contextmanager\n",
    "def session_scope():\n",
    "    \"\"\"\n",
    "    Provides a transactional scope around a series of operations.\n",
    "    :return: None\n",
    "    \"\"\"\n",
    "    session = Session()\n",
    "    try:\n",
    "        yield session\n",
    "        session.commit()\n",
    "    except:\n",
    "        session.rollback()\n",
    "        raise\n",
    "    finally:\n",
    "        session.close()\n",
    "\n",
    "\n",
    "# initialize SQLAlchemy objects\n",
    "engine, Session, mapper_registry = create_database()"
   ]
  },
  {
   "cell_type": "code",
   "execution_count": null,
   "metadata": {},
   "outputs": [],
   "source": [
    "@mapper_registry.mapped\n",
    "class Visit:\n",
    "    __table__ = Table(\n",
    "        \"Visit\",\n",
    "        mapper_registry.metadata,\n",
    "        Column(\"_id\", Integer, primary_key=True, unique=True),\n",
    "        Column(\"pat_id\", Integer),\n",
    "        Column(\"clin_id\", Integer, nullable=True),\n",
    "        Column(\"exp_date\", DateTime, nullable=True),\n",
    "        Column(\"status\", String, nullable=True),\n",
    "        Column(\"time_earliest\", DateTime, nullable=True),\n",
    "        Column(\"time_latest\", DateTime, nullable=True),\n",
    "        Column(\"visit_priority\", String, nullable=True),\n",
    "        Column(\"visit_complexity\", String, nullable=True),\n",
    "        Column(\"skill_list\", MutableList.as_mutable(PickleType), nullable=True),\n",
    "        Column(\"discipline\", String, nullable=True),\n",
    "        Column(\"cancel_reason\", String, nullable=True)\n",
    "    )\n",
    "\n",
    "    _c_visit_complexity = (\"simple\", \"routine\", \"complex\")\n",
    "    _c_visit_priority = (\"green\", \"amber\", \"red\")\n",
    "    _c_sched_status = (\"unassigned\", \"assigned\", \"no show\", \"cancelled\")\n",
    "    _c_cancel_reason = (\"clinician unavailable\", \"patient unavailable\", \"no longer needed\", \"expired\", \"system action\")\n",
    "\n",
    "    def __init__(self, pat_id=10000, clin_id=None, status=1, sched_status=\"unscheduled\", time_earliest=\"2000\", time_latest=\"2200\",\n",
    "                 exp_date=\"22/12/2020\", visit_complexity=_c_visit_complexity[1], visit_priority=_c_visit_priority[0],\n",
    "                 skill_list=[1, 2, 3], discipline=\"\", **kwargs):\n",
    "        \"\"\"Initializes a new request and links with pat_id. It contains the following attributes:\n",
    "            req_id, pat_id, name, status, the earliest time, latest time, sched status, and cancel_reason\"\"\"\n",
    "        self._id = 10000\n",
    "        self.exp_date = datetime.datetime.strptime(exp_date, \"%d/%m/%Y\")\n",
    "        self.pat_id = pat_id\n",
    "        self.clin_id = clin_id\n",
    "        self._name = \"Visit\" + str(self._id)\n",
    "        self.status = status\n",
    "        self.time_earliest = datetime.datetime.strptime(time_earliest, \"%H%M\")\n",
    "        self.time_latest = datetime.datetime.strptime(time_latest, \"%H%M\")\n",
    "        self.visit_priority = visit_priority\n",
    "        self.visit_complexity = visit_complexity\n",
    "        self.skill_list = skill_list\n",
    "        self.discipline = discipline\n",
    "        self._cancel_reason = None\n",
    "        self._sched_status = sched_status"
   ]
  },
  {
   "cell_type": "code",
   "execution_count": null,
   "metadata": {},
   "outputs": [],
   "source": [
    "create_tables(engine, mapper_registry)"
   ]
  },
  {
   "cell_type": "code",
   "execution_count": null,
   "metadata": {},
   "outputs": [],
   "source": [
    "write_obj(Visit())"
   ]
  },
  {
   "cell_type": "code",
   "execution_count": null,
   "metadata": {},
   "outputs": [],
   "source": [
    "obj = load_obj(Visit, 10000)"
   ]
  },
  {
   "cell_type": "code",
   "execution_count": null,
   "metadata": {},
   "outputs": [],
   "source": [
    "with session_scope() as local_session:\n",
    "    # Add the row to the table\n",
    "    obj = local_session.query(Visit).filter(Visit._id == 10000).first()\n",
    "    obj.discipline = \"Nurse\""
   ]
  },
  {
   "cell_type": "code",
   "execution_count": 7,
   "metadata": {},
   "outputs": [],
   "source": [
    "from classes.person import Patient, Clinician\n",
    "from classes.visits import Visit\n",
    "from classes.team import Team"
   ]
  },
  {
   "cell_type": "code",
   "execution_count": null,
   "metadata": {},
   "outputs": [],
   "source": [
    "from data_manager import DataManagerMixin\n",
    "\n",
    "DataManagerMixin.create_tables()\n"
   ]
  },
  {
   "cell_type": "code",
   "execution_count": 3,
   "metadata": {},
   "outputs": [],
   "source": [
    "Patient.load_tracked_instances()\n",
    "Team.load_tracked_instances()\n",
    "Visit.load_tracked_instances()\n",
    "Clinician.load_tracked_instances()"
   ]
  },
  {
   "cell_type": "code",
   "execution_count": 4,
   "metadata": {},
   "outputs": [
    {
     "name": "stdout",
     "output_type": "stream",
     "text": [
      "\n",
      "Patient could not be found.\n",
      "\n",
      "Clinician could not be found.\n",
      "Patient successfully saved.\n",
      "\n"
     ]
    }
   ],
   "source": [
    "\n",
    "visit = Visit(10000, exp_date=\"22/12/2022\", time_earliest=\"0800\", time_latest=\"1700\")"
   ]
  },
  {
   "cell_type": "code",
   "execution_count": 5,
   "metadata": {},
   "outputs": [
    {
     "name": "stdout",
     "output_type": "stream",
     "text": [
      "2022-12-21 14:30:52,867 INFO sqlalchemy.engine.Engine BEGIN (implicit)\n",
      "2022-12-21 14:30:52,871 INFO sqlalchemy.engine.Engine SELECT \"Visit\"._id AS \"Visit__id\", \"Visit\"._pat_id AS \"Visit__pat_id\", \"Visit\"._clin_id AS \"Visit__clin_id\", \"Visit\"._exp_date AS \"Visit__exp_date\", \"Visit\"._status AS \"Visit__status\", \"Visit\"._time_earliest AS \"Visit__time_earliest\", \"Visit\"._time_latest AS \"Visit__time_latest\", \"Visit\"._visit_priority AS \"Visit__visit_priority\", \"Visit\"._visit_complexity AS \"Visit__visit_complexity\", \"Visit\"._skill_list AS \"Visit__skill_list\", \"Visit\"._discipline AS \"Visit__discipline\", \"Visit\"._cancel_reason AS \"Visit__cancel_reason\", \"Visit\"._sched_status AS \"Visit__sched_status\" \n",
      "FROM \"Visit\" \n",
      "WHERE \"Visit\"._id = ?\n",
      "2022-12-21 14:30:52,872 INFO sqlalchemy.engine.Engine [generated in 0.00109s] (10001,)\n",
      "2022-12-21 14:30:52,875 INFO sqlalchemy.engine.Engine UPDATE \"Visit\" SET _exp_date=?, _status=?, _time_earliest=?, _time_latest=?, _visit_priority=?, _visit_complexity=?, _discipline=? WHERE \"Visit\"._id = ?\n",
      "2022-12-21 14:30:52,876 INFO sqlalchemy.engine.Engine [generated in 0.00071s] ('2022-12-22', 1, '08:00:00.000000', '17:00:00.000000', 'green', 'routine', 'any', 10001)\n",
      "2022-12-21 14:30:52,878 INFO sqlalchemy.engine.Engine COMMIT\n"
     ]
    }
   ],
   "source": [
    "visit.write_obj()"
   ]
  },
  {
   "cell_type": "code",
   "execution_count": 9,
   "metadata": {},
   "outputs": [
    {
     "name": "stdout",
     "output_type": "stream",
     "text": [
      "2022-12-21 16:00:05,173 INFO sqlalchemy.engine.Engine BEGIN (implicit)\n",
      "2022-12-21 16:00:05,177 INFO sqlalchemy.engine.Engine SELECT \"Visit\"._id AS \"Visit__id\", \"Visit\"._pat_id AS \"Visit__pat_id\", \"Visit\"._clin_id AS \"Visit__clin_id\", \"Visit\"._exp_date AS \"Visit__exp_date\", \"Visit\"._status AS \"Visit__status\", \"Visit\"._time_earliest AS \"Visit__time_earliest\", \"Visit\"._time_latest AS \"Visit__time_latest\", \"Visit\"._visit_priority AS \"Visit__visit_priority\", \"Visit\"._visit_complexity AS \"Visit__visit_complexity\", \"Visit\"._skill_list AS \"Visit__skill_list\", \"Visit\"._discipline AS \"Visit__discipline\", \"Visit\"._cancel_reason AS \"Visit__cancel_reason\", \"Visit\"._sched_status AS \"Visit__sched_status\" \n",
      "FROM \"Visit\" \n",
      "WHERE \"Visit\"._id = ?\n",
      " LIMIT ? OFFSET ?\n",
      "2022-12-21 16:00:05,178 INFO sqlalchemy.engine.Engine [generated in 0.00108s] (10001, 1, 0)\n"
     ]
    }
   ],
   "source": [
    "new_visit = Visit.load_obj(10001)"
   ]
  },
  {
   "cell_type": "code",
   "execution_count": null,
   "metadata": {},
   "outputs": [],
   "source": [
    "new_visit.discipline"
   ]
  },
  {
   "cell_type": "code",
   "execution_count": null,
   "metadata": {},
   "outputs": [],
   "source": [
    "new_visit.discipline=\"Physical Therapist\"\n",
    "new_visit.discipline"
   ]
  },
  {
   "cell_type": "code",
   "execution_count": null,
   "metadata": {},
   "outputs": [],
   "source": [
    "new_visit.session.rollback()\n",
    "new_visit.session.refresh(new_visit)\n"
   ]
  },
  {
   "cell_type": "code",
   "execution_count": null,
   "metadata": {},
   "outputs": [],
   "source": [
    "new_visit.discipline"
   ]
  },
  {
   "cell_type": "code",
   "execution_count": 37,
   "metadata": {},
   "outputs": [
    {
     "name": "stdout",
     "output_type": "stream",
     "text": [
      "2022-12-21 16:50:44,341 INFO sqlalchemy.engine.Engine SELECT \"Visit\"._id AS \"Visit__id\", \"Visit\"._pat_id AS \"Visit__pat_id\", \"Visit\"._clin_id AS \"Visit__clin_id\", \"Visit\"._exp_date AS \"Visit__exp_date\", \"Visit\"._status AS \"Visit__status\", \"Visit\"._time_earliest AS \"Visit__time_earliest\", \"Visit\"._time_latest AS \"Visit__time_latest\", \"Visit\"._visit_priority AS \"Visit__visit_priority\", \"Visit\"._visit_complexity AS \"Visit__visit_complexity\", \"Visit\"._skill_list AS \"Visit__skill_list\", \"Visit\"._discipline AS \"Visit__discipline\", \"Visit\"._cancel_reason AS \"Visit__cancel_reason\", \"Visit\"._sched_status AS \"Visit__sched_status\" \n",
      "FROM \"Visit\" \n",
      "WHERE \"Visit\"._id = ?\n",
      "2022-12-21 16:50:44,344 INFO sqlalchemy.engine.Engine [cached since 61.73s ago] (10030,)\n"
     ]
    },
    {
     "data": {
      "text/plain": [
       "[]"
      ]
     },
     "execution_count": 37,
     "metadata": {},
     "output_type": "execute_result"
    }
   ],
   "source": [
    "new_visit.session.query(Visit).filter(Visit._id==10030).all()"
   ]
  },
  {
   "cell_type": "code",
   "execution_count": null,
   "metadata": {},
   "outputs": [],
   "source": [
    "Team.import_csv(\"./investigation/team_import.csv\")"
   ]
  },
  {
   "cell_type": "code",
   "execution_count": null,
   "metadata": {},
   "outputs": [],
   "source": [
    "Patient.import_csv(\"./investigation/pat_import.csv\")"
   ]
  },
  {
   "cell_type": "code",
   "execution_count": null,
   "metadata": {},
   "outputs": [],
   "source": [
    "Visit.import_csv(\"./investigation/visit_import.csv\")"
   ]
  },
  {
   "cell_type": "code",
   "execution_count": null,
   "metadata": {},
   "outputs": [],
   "source": [
    "Clinician.import_csv(\"./investigation/clin_import.csv\")"
   ]
  },
  {
   "cell_type": "code",
   "execution_count": null,
   "metadata": {},
   "outputs": [],
   "source": []
  }
 ],
 "metadata": {
  "kernelspec": {
   "display_name": "venv",
   "language": "python",
   "name": "python3"
  },
  "language_info": {
   "codemirror_mode": {
    "name": "ipython",
    "version": 3
   },
   "file_extension": ".py",
   "mimetype": "text/x-python",
   "name": "python",
   "nbconvert_exporter": "python",
   "pygments_lexer": "ipython3",
   "version": "3.10.9 (tags/v3.10.9:1dd9be6, Dec  6 2022, 20:01:21) [MSC v.1934 64 bit (AMD64)]"
  },
  "orig_nbformat": 4,
  "vscode": {
   "interpreter": {
    "hash": "68c29b4e11cb6904d049e7b3036eeceec16bac211a7214239a282b29fb5a1493"
   }
  }
 },
 "nbformat": 4,
 "nbformat_minor": 2
}
